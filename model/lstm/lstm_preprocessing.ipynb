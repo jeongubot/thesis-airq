{
 "cells": [
  {
   "cell_type": "code",
   "execution_count": 1,
   "id": "5afa457c",
   "metadata": {},
   "outputs": [],
   "source": [
    "import pandas as pd\n",
    "import numpy as np\n",
    "from sklearn.preprocessing import MinMaxScaler\n",
    "import os"
   ]
  },
  {
   "cell_type": "code",
   "execution_count": null,
   "id": "a1ea1e96",
   "metadata": {
    "lines_to_next_cell": 1
   },
   "outputs": [],
   "source": [
    "# Define possible features \n",
    "POSSIBLE_FEATURES = ['pm2.5', 'pm10', 'temperature', 'humidity']\n",
    "TARGET_COL = 'pm2.5'\n",
    "TIMESTEPS = 60 "
   ]
  },
  {
   "cell_type": "code",
   "execution_count": 3,
   "id": "36387484",
   "metadata": {
    "lines_to_next_cell": 1
   },
   "outputs": [],
   "source": [
    "def get_available_features(df):\n",
    "    # Use only features present in the dataframe and not the target\n",
    "    return [col for col in POSSIBLE_FEATURES if col in df.columns and col != TARGET_COL]"
   ]
  },
  {
   "cell_type": "code",
   "execution_count": 4,
   "id": "04339d15",
   "metadata": {
    "lines_to_next_cell": 1
   },
   "outputs": [],
   "source": [
    "def load_and_scale(csv_path, scaler=None, fit=False, feature_cols=None):\n",
    "    df = pd.read_csv(csv_path)\n",
    "    # Drop rows with missing values in selected features or target\n",
    "    df = df.dropna(subset=feature_cols + [TARGET_COL])\n",
    "    features = df[feature_cols].values\n",
    "    if scaler is None:\n",
    "        scaler = MinMaxScaler()\n",
    "    if fit:\n",
    "        features_scaled = scaler.fit_transform(features)\n",
    "    else:\n",
    "        features_scaled = scaler.transform(features)\n",
    "    return features_scaled, df[TARGET_COL].values, scaler"
   ]
  },
  {
   "cell_type": "code",
   "execution_count": 5,
   "id": "9486d0fb",
   "metadata": {
    "lines_to_next_cell": 1
   },
   "outputs": [],
   "source": [
    "def create_sequences(data, targets, timesteps):\n",
    "    X, y = [], []\n",
    "    for i in range(len(data) - timesteps):\n",
    "        X.append(data[i:i+timesteps])\n",
    "        y.append(targets[i+timesteps])\n",
    "    return np.array(X), np.array(y)"
   ]
  },
  {
   "cell_type": "code",
   "execution_count": 6,
   "id": "0963d6e4",
   "metadata": {
    "lines_to_next_cell": 1
   },
   "outputs": [],
   "source": [
    "def preprocess_day(train_csv, val_csv, test_csv, timesteps=TIMESTEPS, out_prefix=''):\n",
    "    # Load all splits to determine common features\n",
    "    train_df = pd.read_csv(train_csv)\n",
    "    val_df = pd.read_csv(val_csv)\n",
    "    test_df = pd.read_csv(test_csv)\n",
    "    # Find intersection of available features across splits\n",
    "    features_train = set(get_available_features(train_df))\n",
    "    features_val = set(get_available_features(val_df))\n",
    "    features_test = set(get_available_features(test_df))\n",
    "    feature_cols = list(features_train & features_val & features_test)\n",
    "    feature_cols.sort()  # for consistency\n",
    "\n",
    "    if not feature_cols:\n",
    "        raise ValueError(\"No common features found across splits!\")\n",
    "\n",
    "    print(f\"Using features for {out_prefix}: {feature_cols}\")\n",
    "\n",
    "    # Preprocess each split\n",
    "    X_train_raw, y_train, scaler = load_and_scale(train_csv, fit=True, feature_cols=feature_cols)\n",
    "    X_val_raw, y_val, _ = load_and_scale(val_csv, scaler, feature_cols=feature_cols)\n",
    "    X_test_raw, y_test, _ = load_and_scale(test_csv, scaler, feature_cols=feature_cols)\n",
    "\n",
    "    X_train, y_train = create_sequences(X_train_raw, y_train, timesteps)\n",
    "    X_val, y_val = create_sequences(X_val_raw, y_val, timesteps)\n",
    "    X_test, y_test = create_sequences(X_test_raw, y_test, timesteps)\n",
    "\n",
    "    # Save arrays and feature info\n",
    "    np.savez(f'{out_prefix}lstm_preprocessed_data.npz',\n",
    "             X_train=X_train, y_train=y_train,\n",
    "             X_val=X_val, y_val=y_val,\n",
    "             X_test=X_test, y_test=y_test,\n",
    "             feature_cols=feature_cols)\n",
    "    print(f\"Saved: {out_prefix}lstm_preprocessed_data.npz\")"
   ]
  },
  {
   "cell_type": "code",
   "execution_count": 8,
   "id": "ee17e8c4",
   "metadata": {},
   "outputs": [
    {
     "name": "stdout",
     "output_type": "stream",
     "text": [
      "Using features for 11_10_: ['humidity', 'pm10', 'temperature']\n",
      "Saved: 11_10_lstm_preprocessed_data.npz\n",
      "Using features for 7_24_: ['pm10']\n",
      "Saved: 7_24_lstm_preprocessed_data.npz\n",
      "Using features for 10_19_: ['humidity', 'pm10', 'temperature']\n",
      "Saved: 10_19_lstm_preprocessed_data.npz\n"
     ]
    }
   ],
   "source": [
    "if __name__ == \"__main__\":\n",
    "    # Example for 11_10_data (full features)\n",
    "    preprocess_day(\n",
    "        train_csv='../../dataset/d_data_split/11_10_data/train.csv',\n",
    "        val_csv='../../dataset/d_data_split/11_10_data/val.csv',\n",
    "        test_csv='../../dataset/d_data_split/11_10_data/test.csv',\n",
    "        out_prefix='11_10_'\n",
    "    )\n",
    "    # Example for 7_24_data (fewer features)\n",
    "    preprocess_day(\n",
    "        train_csv='../../dataset/d_data_split/7_24_data/train.csv',\n",
    "        val_csv='../../dataset/d_data_split/7_24_data/val.csv',\n",
    "        test_csv='../../dataset/d_data_split/7_24_data/test.csv',\n",
    "        out_prefix='7_24_'\n",
    "    )\n",
    "    # Example for 10_19_data (handle missing location)\n",
    "    preprocess_day(\n",
    "        train_csv='../../dataset/d_data_split/10_19_data/train.csv',\n",
    "        val_csv='../../dataset/d_data_split/10_19_data/val.csv',\n",
    "        test_csv='../../dataset/d_data_split/10_19_data/test.csv',\n",
    "        out_prefix='10_19_'\n",
    "    )"
   ]
  }
 ],
 "metadata": {
  "jupytext": {
   "cell_metadata_filter": "-all",
   "main_language": "python",
   "notebook_metadata_filter": "-all"
  },
  "kernelspec": {
   "display_name": "tfenv",
   "language": "python",
   "name": "python3"
  },
  "language_info": {
   "codemirror_mode": {
    "name": "ipython",
    "version": 3
   },
   "file_extension": ".py",
   "mimetype": "text/x-python",
   "name": "python",
   "nbconvert_exporter": "python",
   "pygments_lexer": "ipython3",
   "version": "3.10.16"
  }
 },
 "nbformat": 4,
 "nbformat_minor": 5
}
