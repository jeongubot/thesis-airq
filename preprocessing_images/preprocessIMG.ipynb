{
 "cells": [
  {
   "cell_type": "code",
   "execution_count": 8,
   "id": "1e55b541",
   "metadata": {},
   "outputs": [],
   "source": [
    "import os\n",
    "import numpy as np\n",
    "import pandas as pd\n",
    "from PIL import Image\n",
    "\n",
    "def preprocess_and_save_images_pil(csv_path, raw_image_folder, processed_folder, image_size=(224, 224)):\n",
    "    os.makedirs(processed_folder, exist_ok=True)\n",
    "\n",
    "    df = pd.read_csv(csv_path)\n",
    "    used_filenames = df['image'].dropna().unique()\n",
    "\n",
    "    for filename in used_filenames:\n",
    "        raw_path = os.path.join(raw_image_folder, filename)\n",
    "        save_name = os.path.splitext(filename)[0] + \".npy\"\n",
    "        save_path = os.path.join(processed_folder, save_name)\n",
    "\n",
    "        if not os.path.exists(raw_path):\n",
    "            print(f\"⚠️ Missing image: {raw_path}\")\n",
    "            continue\n",
    "\n",
    "        try:\n",
    "            # Open image using PIL and convert to RGB\n",
    "            img = Image.open(raw_path).convert(\"RGB\")\n",
    "\n",
    "            # Resize image\n",
    "            img = img.resize(image_size)\n",
    "\n",
    "            # Convert to NumPy and normalize to [0, 1]\n",
    "            img_array = np.array(img).astype(\"float32\") / 255.0\n",
    "\n",
    "            # Save as .npy\n",
    "            np.save(save_path, img_array)\n",
    "\n",
    "        except Exception as e:\n",
    "            print(f\"❌ Error processing {filename}: {e}\")\n",
    "\n",
    "    print(f\"✅ Finished preprocessing {len(used_filenames)} images into: {processed_folder}\")\n"
   ]
  },
  {
   "cell_type": "code",
   "execution_count": 12,
   "id": "e31a88c7",
   "metadata": {},
   "outputs": [
    {
     "name": "stdout",
     "output_type": "stream",
     "text": [
      "✅ Finished preprocessing 36 images into: /Users/Shai/OneDrive/Documents/THESIS/thesis-airq/preprocessing_images/processed_images/7_24/\n",
      "✅ Finished preprocessing 37 images into: /Users/Shai/OneDrive/Documents/THESIS/thesis-airq/preprocessing_images/processed_images/10_19/\n",
      "✅ Finished preprocessing 33 images into: /Users/Shai/OneDrive/Documents/THESIS/thesis-airq/preprocessing_images/processed_images/11_10/\n"
     ]
    }
   ],
   "source": [
    "preprocess_and_save_images_pil(\n",
    "    csv_path=\"/Users/Shai/OneDrive/Documents/THESIS/thesis-airq/data_matching/matched/7_24_matched.csv\",\n",
    "    raw_image_folder=\"/Users/Shai/OneDrive/Desktop/THESIS_data/images/724 images/\",\n",
    "    processed_folder=\"/Users/Shai/OneDrive/Documents/THESIS/thesis-airq/preprocessing_images/processed_images/7_24/\",\n",
    "    image_size=(224, 224)\n",
    ")\n",
    "\n",
    "preprocess_and_save_images_pil(\n",
    "    csv_path=\"/Users/Shai/OneDrive/Documents/THESIS/thesis-airq/data_matching/matched/10_19_matched.csv\",\n",
    "    raw_image_folder=\"/Users/Shai/OneDrive/Desktop/THESIS_data/images/1019 images/\",\n",
    "    processed_folder=\"/Users/Shai/OneDrive/Documents/THESIS/thesis-airq/preprocessing_images/processed_images/10_19/\",\n",
    "    image_size=(224, 224)\n",
    ")\n",
    "\n",
    "preprocess_and_save_images_pil(\n",
    "    csv_path=\"/Users/Shai/OneDrive/Documents/THESIS/thesis-airq/data_matching/matched/11_10_matched.csv\",\n",
    "    raw_image_folder=\"/Users/Shai/OneDrive/Desktop/THESIS_data/images/1110 images/\",\n",
    "    processed_folder=\"/Users/Shai/OneDrive/Documents/THESIS/thesis-airq/preprocessing_images/processed_images/11_10/\",\n",
    "    image_size=(224, 224)\n",
    ")\n"
   ]
  },
  {
   "cell_type": "code",
   "execution_count": 13,
   "id": "ef220c0e",
   "metadata": {},
   "outputs": [
    {
     "name": "stdout",
     "output_type": "stream",
     "text": [
      "37\n",
      "image\n",
      "2019-10-19 104440.JPG    28511\n",
      "2019-10-19 111435.JPG    22284\n",
      "2019-10-19 104604.JPG    13514\n",
      "2019-10-19 122032.jpg    12249\n",
      "2019-10-19 124454.jpg    10916\n",
      "2019-10-19 115942.JPG    10572\n",
      "2019-10-19 130733.jpg     8602\n",
      "2019-10-19 132416.jpg     8219\n",
      "2019-10-19 134327.jpg     5622\n",
      "2019-10-19 140059.jpg     1029\n",
      "2019-10-19 111323.JPG      521\n",
      "2019-10-19 111233.JPG      270\n",
      "2019-10-19 104534.JPG      259\n",
      "2019-10-19 104445.JPG      217\n",
      "2019-10-19 104511.JPG      197\n",
      "2019-10-19 111424.JPG       95\n",
      "2019-10-19 115933.jpg       81\n",
      "2019-10-19 111305.JPG       78\n",
      "2019-10-19 111314.JPG       77\n",
      "2019-10-19 115923.jpg       63\n",
      "2019-10-19 124448.jpg       53\n",
      "2019-10-19 134320.jpg       41\n",
      "2019-10-19 130729.jpg       32\n",
      "2019-10-19 115930.jpg       27\n",
      "2019-10-19 122029.jpg       26\n",
      "2019-10-19 122026.jpg       26\n",
      "2019-10-19 124443.jpg       26\n",
      "2019-10-19 140050.jpg       26\n",
      "2019-10-19 132413.jpg       25\n",
      "2019-10-19 130723.jpg       25\n",
      "2019-10-19 132410.jpg       25\n",
      "2019-10-19 130726.jpg       25\n",
      "2019-10-19 140054.jpg       20\n",
      "2019-10-19 124446.jpg       18\n",
      "2019-10-19 134317.jpg       18\n",
      "2019-10-19 134314.jpg       18\n",
      "2019-10-19 140057.jpg       13\n",
      "Name: count, dtype: int64\n"
     ]
    }
   ],
   "source": [
    "#CHECK 1019 IMAGES\n",
    "df = pd.read_csv(\"/Users/Shai/OneDrive/Documents/THESIS/thesis-airq/data_matching/matched/10_19_matched.csv\")\n",
    "print(df['image'].nunique())\n",
    "print(df['image'].value_counts())\n"
   ]
  }
 ],
 "metadata": {
  "kernelspec": {
   "display_name": "Python (tf-env)",
   "language": "python",
   "name": "tf-env"
  },
  "language_info": {
   "codemirror_mode": {
    "name": "ipython",
    "version": 3
   },
   "file_extension": ".py",
   "mimetype": "text/x-python",
   "name": "python",
   "nbconvert_exporter": "python",
   "pygments_lexer": "ipython3",
   "version": "3.10.16"
  }
 },
 "nbformat": 4,
 "nbformat_minor": 5
}
